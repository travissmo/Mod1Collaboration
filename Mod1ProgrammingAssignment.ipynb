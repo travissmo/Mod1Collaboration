{
 "cells": [
  {
   "cell_type": "code",
   "execution_count": 1,
   "id": "16d7472a-6a2a-4462-8e88-95bf086fa718",
   "metadata": {},
   "outputs": [
    {
     "data": {
      "text/plain": [
       "3600"
      ]
     },
     "execution_count": 1,
     "metadata": {},
     "output_type": "execute_result"
    }
   ],
   "source": [
    "60 * 60\n"
   ]
  },
  {
   "cell_type": "code",
   "execution_count": 3,
   "id": "27daf1ec-78f9-4c7f-b866-eae46eac4d9f",
   "metadata": {},
   "outputs": [],
   "source": [
    "seconds_per_hour = 3600\n"
   ]
  },
  {
   "cell_type": "code",
   "execution_count": 11,
   "id": "e5589993-d17b-4c96-bc7f-8db6efb47d77",
   "metadata": {},
   "outputs": [
    {
     "data": {
      "text/plain": [
       "86400"
      ]
     },
     "execution_count": 11,
     "metadata": {},
     "output_type": "execute_result"
    }
   ],
   "source": [
    "seconds_per_hour * 24"
   ]
  },
  {
   "cell_type": "code",
   "execution_count": 5,
   "id": "6699bba5-3fcd-4636-b631-d2fe5a5b7515",
   "metadata": {},
   "outputs": [],
   "source": [
    "seconds_per_day = seconds_per_hour * 24"
   ]
  },
  {
   "cell_type": "code",
   "execution_count": 9,
   "id": "f51e00f9-4eda-4d35-a8c3-1a22d82e415d",
   "metadata": {},
   "outputs": [
    {
     "name": "stdout",
     "output_type": "stream",
     "text": [
      "86400\n"
     ]
    }
   ],
   "source": [
    "print(seconds_per_day)"
   ]
  },
  {
   "cell_type": "code",
   "execution_count": 13,
   "id": "7d4ac949-8dca-4923-b52e-5e6cd73e1dac",
   "metadata": {},
   "outputs": [
    {
     "data": {
      "text/plain": [
       "24.0"
      ]
     },
     "execution_count": 13,
     "metadata": {},
     "output_type": "execute_result"
    }
   ],
   "source": [
    "seconds_per_day/seconds_per_hour"
   ]
  },
  {
   "cell_type": "code",
   "execution_count": 15,
   "id": "1baacc7e-129d-4137-85e1-fce9fcec387b",
   "metadata": {},
   "outputs": [
    {
     "data": {
      "text/plain": [
       "24"
      ]
     },
     "execution_count": 15,
     "metadata": {},
     "output_type": "execute_result"
    }
   ],
   "source": [
    "seconds_per_day//seconds_per_hour\n"
   ]
  },
  {
   "cell_type": "code",
   "execution_count": 19,
   "id": "34fb5b1b-45af-4012-81ea-20dc36e232eb",
   "metadata": {},
   "outputs": [
    {
     "name": "stdout",
     "output_type": "stream",
     "text": [
      "The answer to 3.6 is yes, these two numbers where the same aside from the .0 decimal value in the floating point division\n"
     ]
    }
   ],
   "source": [
    "answer = \"The answer to 3.6 is yes, these two numbers where the same aside from the .0 decimal value in the floating point division\"\n",
    "print(answer)"
   ]
  },
  {
   "cell_type": "code",
   "execution_count": null,
   "id": "097a3492-e638-4b77-8c20-3dec019cd50a",
   "metadata": {},
   "outputs": [],
   "source": []
  }
 ],
 "metadata": {
  "kernelspec": {
   "display_name": "Python 3 (ipykernel)",
   "language": "python",
   "name": "python3"
  },
  "language_info": {
   "codemirror_mode": {
    "name": "ipython",
    "version": 3
   },
   "file_extension": ".py",
   "mimetype": "text/x-python",
   "name": "python",
   "nbconvert_exporter": "python",
   "pygments_lexer": "ipython3",
   "version": "3.12.4"
  }
 },
 "nbformat": 4,
 "nbformat_minor": 5
}
